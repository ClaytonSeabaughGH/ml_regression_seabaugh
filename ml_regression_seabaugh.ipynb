{
 "cells": [
  {
   "cell_type": "markdown",
   "id": "cad1483e",
   "metadata": {},
   "source": [
    "# Clayton Seabaugh: Machine Learning Final Project\n",
    "**Author:** Clayton Seabaugh  \n",
    "**Date:** 4-20-2025  \n",
    "**Objective:** This project demonstrates my ability to apply regression modeling techniques to a real-world dataset\n",
    "- Load and explore a dataset\n",
    "- Choose and justify features for predictign a target variable\n",
    "- Train a regression model and evaluate performance\n",
    "- Compare multiple regression approaches"
   ]
  },
  {
   "cell_type": "markdown",
   "id": "0c89b835",
   "metadata": {},
   "source": [
    "## Section 1: Imports and Inspect the Data"
   ]
  },
  {
   "cell_type": "markdown",
   "id": "bd0e2990",
   "metadata": {},
   "source": [
    "### Section 1.1: Import modules and inspect first 10 rows"
   ]
  },
  {
   "cell_type": "code",
   "execution_count": 2,
   "id": "7065d40b",
   "metadata": {},
   "outputs": [],
   "source": [
    "# Imports needed\n",
    "import seaborn as sns\n",
    "import pandas as pd\n",
    "import matplotlib.pyplot as plt\n",
    "import os\n"
   ]
  },
  {
   "cell_type": "code",
   "execution_count": 4,
   "id": "f77472c6",
   "metadata": {},
   "outputs": [
    {
     "name": "stdout",
     "output_type": "stream",
     "text": [
      "   age     sex     bmi  children smoker     region      charges\n",
      "0   19  female  27.900         0    yes  southwest  16884.92400\n",
      "1   18    male  33.770         1     no  southeast   1725.55230\n",
      "2   28    male  33.000         3     no  southeast   4449.46200\n",
      "3   33    male  22.705         0     no  northwest  21984.47061\n",
      "4   32    male  28.880         0     no  northwest   3866.85520\n",
      "5   31  female  25.740         0     no  southeast   3756.62160\n",
      "6   46  female  33.440         1     no  southeast   8240.58960\n",
      "7   37  female  27.740         3     no  northwest   7281.50560\n",
      "8   37    male  29.830         2     no  northeast   6406.41070\n",
      "9   60  female  25.840         0     no  northwest  28923.13692\n"
     ]
    }
   ],
   "source": [
    "# Create file path for data and print head\n",
    "file_path = 'data/insurance.csv'\n",
    "if os.path.exists(file_path):\n",
    "    # Read and print df\n",
    "    df = pd.read_csv(file_path)\n",
    "    print(df.head(10))\n",
    "else:\n",
    "    print(f\"File {file_path} does not exist.\")"
   ]
  },
  {
   "cell_type": "markdown",
   "id": "4f03198e",
   "metadata": {},
   "source": [
    "### Section 1.2: Check for missing values and display summary statistics"
   ]
  },
  {
   "cell_type": "code",
   "execution_count": 5,
   "id": "81366ea5",
   "metadata": {},
   "outputs": [
    {
     "name": "stdout",
     "output_type": "stream",
     "text": [
      "Missing Values in each Column:\n",
      "age         0\n",
      "sex         0\n",
      "bmi         0\n",
      "children    0\n",
      "smoker      0\n",
      "region      0\n",
      "charges     0\n",
      "dtype: int64\n",
      "Summary Statistics:\n",
      "               age          bmi     children       charges\n",
      "count  1338.000000  1338.000000  1338.000000   1338.000000\n",
      "mean     39.207025    30.663397     1.094918  13270.422265\n",
      "std      14.049960     6.098187     1.205493  12110.011237\n",
      "min      18.000000    15.960000     0.000000   1121.873900\n",
      "25%      27.000000    26.296250     0.000000   4740.287150\n",
      "50%      39.000000    30.400000     1.000000   9382.033000\n",
      "75%      51.000000    34.693750     2.000000  16639.912515\n",
      "max      64.000000    53.130000     5.000000  63770.428010\n"
     ]
    }
   ],
   "source": [
    "# Check for missing values\n",
    "missing_values = df.isnull().sum()\n",
    "print(f\"Missing Values in each Column:\\n{missing_values}\")\n",
    "\n",
    "# Generate summary statistics\n",
    "summary_stats = df.describe()\n",
    "print (f\"Summary Statistics:\\n{summary_stats}\")"
   ]
  },
  {
   "cell_type": "markdown",
   "id": "c2f4a77d",
   "metadata": {},
   "source": [
    "### Reflection 1: \n",
    "- There are 7 columns: age, sex, bmi, children, smoker, region, charges\n",
    "- 3 Columns are categorical (sex, smoker, and region) and 4 are numerical(age, bmi, children, charges)\n",
    "- There is a wide range of charges from 1121.87 min and 63770 max\n",
    "- There are no null values in any of the columns and no data issues"
   ]
  },
  {
   "cell_type": "code",
   "execution_count": null,
   "id": "7bcde5cb",
   "metadata": {},
   "outputs": [],
   "source": []
  }
 ],
 "metadata": {
  "kernelspec": {
   "display_name": ".venv",
   "language": "python",
   "name": "python3"
  },
  "language_info": {
   "codemirror_mode": {
    "name": "ipython",
    "version": 3
   },
   "file_extension": ".py",
   "mimetype": "text/x-python",
   "name": "python",
   "nbconvert_exporter": "python",
   "pygments_lexer": "ipython3",
   "version": "3.13.3"
  }
 },
 "nbformat": 4,
 "nbformat_minor": 5
}
