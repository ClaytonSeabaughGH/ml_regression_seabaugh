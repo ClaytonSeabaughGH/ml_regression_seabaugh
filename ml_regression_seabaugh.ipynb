{
 "cells": [
  {
   "cell_type": "markdown",
   "id": "cad1483e",
   "metadata": {},
   "source": [
    "# Clayton Seabaugh: Machine Learning Final Project\n",
    "**Author:** Clayton Seabaugh  \n",
    "**Date:** 4-20-2025  \n",
    "**Objective:** This project demonstrates my ability to apply regression modeling techniques to a real-world dataset\n",
    "- Load and explore a dataset\n",
    "- Choose and justify features for predictign a target variable\n",
    "- Train a regression model and evaluate performance\n",
    "- Compare multiple regression approaches"
   ]
  },
  {
   "cell_type": "code",
   "execution_count": null,
   "id": "7065d40b",
   "metadata": {},
   "outputs": [],
   "source": [
    "# Imports needed\n",
    "import seaborn as sns\n",
    "import pandas as pd\n",
    "import matplotlib.pyplot as plt\n",
    "import os\n"
   ]
  }
 ],
 "metadata": {
  "kernelspec": {
   "display_name": ".venv",
   "language": "python",
   "name": "python3"
  },
  "language_info": {
   "name": "python",
   "version": "3.13.3"
  }
 },
 "nbformat": 4,
 "nbformat_minor": 5
}
